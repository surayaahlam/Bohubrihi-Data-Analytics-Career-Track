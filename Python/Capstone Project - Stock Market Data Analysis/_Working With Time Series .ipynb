{
 "cells": [
  {
   "cell_type": "code",
   "execution_count": 1,
   "id": "38cfcfb7",
   "metadata": {},
   "outputs": [],
   "source": [
    "import pandas as pd\n",
    "import numpy as np"
   ]
  },
  {
   "cell_type": "code",
   "execution_count": 2,
   "id": "b580ae1e",
   "metadata": {},
   "outputs": [],
   "source": [
    "temp=[24.6,24.2,24.8,24.9,25.4,25.5,25.9,26.55,27.2,28.1,29.4,29.5,29.7,30.5,21.3,31.7,32.6,33.5,31.5,30.6,29.4,29.1,28.54,25.3]"
   ]
  },
  {
   "cell_type": "code",
   "execution_count": 3,
   "id": "d32fbab1",
   "metadata": {},
   "outputs": [],
   "source": [
    "df=pd.date_range(start='2023-07-07 00:00:00', periods=24,freq='H')"
   ]
  },
  {
   "cell_type": "code",
   "execution_count": 4,
   "id": "17c2caa3",
   "metadata": {},
   "outputs": [
    {
     "data": {
      "text/plain": [
       "pandas.core.indexes.datetimes.DatetimeIndex"
      ]
     },
     "execution_count": 4,
     "metadata": {},
     "output_type": "execute_result"
    }
   ],
   "source": [
    "type(df)"
   ]
  },
  {
   "cell_type": "code",
   "execution_count": 5,
   "id": "2c56d64a",
   "metadata": {},
   "outputs": [],
   "source": [
    "temp=pd.DataFrame(data={'temp':temp},index=df)"
   ]
  },
  {
   "cell_type": "code",
   "execution_count": 6,
   "id": "26e307c2",
   "metadata": {},
   "outputs": [
    {
     "data": {
      "text/html": [
       "<div>\n",
       "<style scoped>\n",
       "    .dataframe tbody tr th:only-of-type {\n",
       "        vertical-align: middle;\n",
       "    }\n",
       "\n",
       "    .dataframe tbody tr th {\n",
       "        vertical-align: top;\n",
       "    }\n",
       "\n",
       "    .dataframe thead th {\n",
       "        text-align: right;\n",
       "    }\n",
       "</style>\n",
       "<table border=\"1\" class=\"dataframe\">\n",
       "  <thead>\n",
       "    <tr style=\"text-align: right;\">\n",
       "      <th></th>\n",
       "      <th>temp</th>\n",
       "    </tr>\n",
       "  </thead>\n",
       "  <tbody>\n",
       "    <tr>\n",
       "      <th>2023-07-07 00:00:00</th>\n",
       "      <td>24.60</td>\n",
       "    </tr>\n",
       "    <tr>\n",
       "      <th>2023-07-07 01:00:00</th>\n",
       "      <td>24.20</td>\n",
       "    </tr>\n",
       "    <tr>\n",
       "      <th>2023-07-07 02:00:00</th>\n",
       "      <td>24.80</td>\n",
       "    </tr>\n",
       "    <tr>\n",
       "      <th>2023-07-07 03:00:00</th>\n",
       "      <td>24.90</td>\n",
       "    </tr>\n",
       "    <tr>\n",
       "      <th>2023-07-07 04:00:00</th>\n",
       "      <td>25.40</td>\n",
       "    </tr>\n",
       "    <tr>\n",
       "      <th>2023-07-07 05:00:00</th>\n",
       "      <td>25.50</td>\n",
       "    </tr>\n",
       "    <tr>\n",
       "      <th>2023-07-07 06:00:00</th>\n",
       "      <td>25.90</td>\n",
       "    </tr>\n",
       "    <tr>\n",
       "      <th>2023-07-07 07:00:00</th>\n",
       "      <td>26.55</td>\n",
       "    </tr>\n",
       "    <tr>\n",
       "      <th>2023-07-07 08:00:00</th>\n",
       "      <td>27.20</td>\n",
       "    </tr>\n",
       "    <tr>\n",
       "      <th>2023-07-07 09:00:00</th>\n",
       "      <td>28.10</td>\n",
       "    </tr>\n",
       "    <tr>\n",
       "      <th>2023-07-07 10:00:00</th>\n",
       "      <td>29.40</td>\n",
       "    </tr>\n",
       "    <tr>\n",
       "      <th>2023-07-07 11:00:00</th>\n",
       "      <td>29.50</td>\n",
       "    </tr>\n",
       "    <tr>\n",
       "      <th>2023-07-07 12:00:00</th>\n",
       "      <td>29.70</td>\n",
       "    </tr>\n",
       "    <tr>\n",
       "      <th>2023-07-07 13:00:00</th>\n",
       "      <td>30.50</td>\n",
       "    </tr>\n",
       "    <tr>\n",
       "      <th>2023-07-07 14:00:00</th>\n",
       "      <td>21.30</td>\n",
       "    </tr>\n",
       "    <tr>\n",
       "      <th>2023-07-07 15:00:00</th>\n",
       "      <td>31.70</td>\n",
       "    </tr>\n",
       "    <tr>\n",
       "      <th>2023-07-07 16:00:00</th>\n",
       "      <td>32.60</td>\n",
       "    </tr>\n",
       "    <tr>\n",
       "      <th>2023-07-07 17:00:00</th>\n",
       "      <td>33.50</td>\n",
       "    </tr>\n",
       "    <tr>\n",
       "      <th>2023-07-07 18:00:00</th>\n",
       "      <td>31.50</td>\n",
       "    </tr>\n",
       "    <tr>\n",
       "      <th>2023-07-07 19:00:00</th>\n",
       "      <td>30.60</td>\n",
       "    </tr>\n",
       "    <tr>\n",
       "      <th>2023-07-07 20:00:00</th>\n",
       "      <td>29.40</td>\n",
       "    </tr>\n",
       "    <tr>\n",
       "      <th>2023-07-07 21:00:00</th>\n",
       "      <td>29.10</td>\n",
       "    </tr>\n",
       "    <tr>\n",
       "      <th>2023-07-07 22:00:00</th>\n",
       "      <td>28.54</td>\n",
       "    </tr>\n",
       "    <tr>\n",
       "      <th>2023-07-07 23:00:00</th>\n",
       "      <td>25.30</td>\n",
       "    </tr>\n",
       "  </tbody>\n",
       "</table>\n",
       "</div>"
      ],
      "text/plain": [
       "                      temp\n",
       "2023-07-07 00:00:00  24.60\n",
       "2023-07-07 01:00:00  24.20\n",
       "2023-07-07 02:00:00  24.80\n",
       "2023-07-07 03:00:00  24.90\n",
       "2023-07-07 04:00:00  25.40\n",
       "2023-07-07 05:00:00  25.50\n",
       "2023-07-07 06:00:00  25.90\n",
       "2023-07-07 07:00:00  26.55\n",
       "2023-07-07 08:00:00  27.20\n",
       "2023-07-07 09:00:00  28.10\n",
       "2023-07-07 10:00:00  29.40\n",
       "2023-07-07 11:00:00  29.50\n",
       "2023-07-07 12:00:00  29.70\n",
       "2023-07-07 13:00:00  30.50\n",
       "2023-07-07 14:00:00  21.30\n",
       "2023-07-07 15:00:00  31.70\n",
       "2023-07-07 16:00:00  32.60\n",
       "2023-07-07 17:00:00  33.50\n",
       "2023-07-07 18:00:00  31.50\n",
       "2023-07-07 19:00:00  30.60\n",
       "2023-07-07 20:00:00  29.40\n",
       "2023-07-07 21:00:00  29.10\n",
       "2023-07-07 22:00:00  28.54\n",
       "2023-07-07 23:00:00  25.30"
      ]
     },
     "execution_count": 6,
     "metadata": {},
     "output_type": "execute_result"
    }
   ],
   "source": [
    "temp"
   ]
  },
  {
   "cell_type": "code",
   "execution_count": 9,
   "id": "ea76283a",
   "metadata": {},
   "outputs": [
    {
     "data": {
      "text/html": [
       "<div>\n",
       "<style scoped>\n",
       "    .dataframe tbody tr th:only-of-type {\n",
       "        vertical-align: middle;\n",
       "    }\n",
       "\n",
       "    .dataframe tbody tr th {\n",
       "        vertical-align: top;\n",
       "    }\n",
       "\n",
       "    .dataframe thead th {\n",
       "        text-align: right;\n",
       "    }\n",
       "</style>\n",
       "<table border=\"1\" class=\"dataframe\">\n",
       "  <thead>\n",
       "    <tr style=\"text-align: right;\">\n",
       "      <th></th>\n",
       "      <th>temp</th>\n",
       "    </tr>\n",
       "  </thead>\n",
       "  <tbody>\n",
       "    <tr>\n",
       "      <th>2023-07-07 09:00:00</th>\n",
       "      <td>28.1</td>\n",
       "    </tr>\n",
       "    <tr>\n",
       "      <th>2023-07-07 10:00:00</th>\n",
       "      <td>29.4</td>\n",
       "    </tr>\n",
       "    <tr>\n",
       "      <th>2023-07-07 11:00:00</th>\n",
       "      <td>29.5</td>\n",
       "    </tr>\n",
       "    <tr>\n",
       "      <th>2023-07-07 12:00:00</th>\n",
       "      <td>29.7</td>\n",
       "    </tr>\n",
       "    <tr>\n",
       "      <th>2023-07-07 13:00:00</th>\n",
       "      <td>30.5</td>\n",
       "    </tr>\n",
       "    <tr>\n",
       "      <th>2023-07-07 14:00:00</th>\n",
       "      <td>21.3</td>\n",
       "    </tr>\n",
       "  </tbody>\n",
       "</table>\n",
       "</div>"
      ],
      "text/plain": [
       "                     temp\n",
       "2023-07-07 09:00:00  28.1\n",
       "2023-07-07 10:00:00  29.4\n",
       "2023-07-07 11:00:00  29.5\n",
       "2023-07-07 12:00:00  29.7\n",
       "2023-07-07 13:00:00  30.5\n",
       "2023-07-07 14:00:00  21.3"
      ]
     },
     "execution_count": 9,
     "metadata": {},
     "output_type": "execute_result"
    }
   ],
   "source": [
    "temp['2023-07-07 09':'2023-07-07 14']"
   ]
  },
  {
   "cell_type": "code",
   "execution_count": 33,
   "id": "4dc0400c",
   "metadata": {},
   "outputs": [
    {
     "data": {
      "text/html": [
       "<div>\n",
       "<style scoped>\n",
       "    .dataframe tbody tr th:only-of-type {\n",
       "        vertical-align: middle;\n",
       "    }\n",
       "\n",
       "    .dataframe tbody tr th {\n",
       "        vertical-align: top;\n",
       "    }\n",
       "\n",
       "    .dataframe thead th {\n",
       "        text-align: right;\n",
       "    }\n",
       "</style>\n",
       "<table border=\"1\" class=\"dataframe\">\n",
       "  <thead>\n",
       "    <tr style=\"text-align: right;\">\n",
       "      <th></th>\n",
       "      <th>temp</th>\n",
       "    </tr>\n",
       "  </thead>\n",
       "  <tbody>\n",
       "    <tr>\n",
       "      <th>2023-07-07 00:00:00</th>\n",
       "      <td>24.6250</td>\n",
       "    </tr>\n",
       "    <tr>\n",
       "      <th>2023-07-07 04:00:00</th>\n",
       "      <td>25.8375</td>\n",
       "    </tr>\n",
       "    <tr>\n",
       "      <th>2023-07-07 08:00:00</th>\n",
       "      <td>28.5500</td>\n",
       "    </tr>\n",
       "    <tr>\n",
       "      <th>2023-07-07 12:00:00</th>\n",
       "      <td>28.3000</td>\n",
       "    </tr>\n",
       "    <tr>\n",
       "      <th>2023-07-07 16:00:00</th>\n",
       "      <td>32.0500</td>\n",
       "    </tr>\n",
       "    <tr>\n",
       "      <th>2023-07-07 20:00:00</th>\n",
       "      <td>28.0850</td>\n",
       "    </tr>\n",
       "  </tbody>\n",
       "</table>\n",
       "</div>"
      ],
      "text/plain": [
       "                        temp\n",
       "2023-07-07 00:00:00  24.6250\n",
       "2023-07-07 04:00:00  25.8375\n",
       "2023-07-07 08:00:00  28.5500\n",
       "2023-07-07 12:00:00  28.3000\n",
       "2023-07-07 16:00:00  32.0500\n",
       "2023-07-07 20:00:00  28.0850"
      ]
     },
     "execution_count": 33,
     "metadata": {},
     "output_type": "execute_result"
    }
   ],
   "source": [
    "temp.resample(rule='4h').mean()"
   ]
  },
  {
   "cell_type": "code",
   "execution_count": 35,
   "id": "542c8366",
   "metadata": {
    "scrolled": true
   },
   "outputs": [
    {
     "data": {
      "text/html": [
       "<div>\n",
       "<style scoped>\n",
       "    .dataframe tbody tr th:only-of-type {\n",
       "        vertical-align: middle;\n",
       "    }\n",
       "\n",
       "    .dataframe tbody tr th {\n",
       "        vertical-align: top;\n",
       "    }\n",
       "\n",
       "    .dataframe thead th {\n",
       "        text-align: right;\n",
       "    }\n",
       "</style>\n",
       "<table border=\"1\" class=\"dataframe\">\n",
       "  <thead>\n",
       "    <tr style=\"text-align: right;\">\n",
       "      <th></th>\n",
       "      <th>temp</th>\n",
       "    </tr>\n",
       "  </thead>\n",
       "  <tbody>\n",
       "    <tr>\n",
       "      <th>2023-07-07 00:00:00</th>\n",
       "      <td>NaN</td>\n",
       "    </tr>\n",
       "    <tr>\n",
       "      <th>2023-07-07 01:00:00</th>\n",
       "      <td>24.533333</td>\n",
       "    </tr>\n",
       "    <tr>\n",
       "      <th>2023-07-07 02:00:00</th>\n",
       "      <td>24.633333</td>\n",
       "    </tr>\n",
       "    <tr>\n",
       "      <th>2023-07-07 03:00:00</th>\n",
       "      <td>25.033333</td>\n",
       "    </tr>\n",
       "    <tr>\n",
       "      <th>2023-07-07 04:00:00</th>\n",
       "      <td>25.266667</td>\n",
       "    </tr>\n",
       "    <tr>\n",
       "      <th>2023-07-07 05:00:00</th>\n",
       "      <td>25.600000</td>\n",
       "    </tr>\n",
       "    <tr>\n",
       "      <th>2023-07-07 06:00:00</th>\n",
       "      <td>25.983333</td>\n",
       "    </tr>\n",
       "    <tr>\n",
       "      <th>2023-07-07 07:00:00</th>\n",
       "      <td>26.550000</td>\n",
       "    </tr>\n",
       "    <tr>\n",
       "      <th>2023-07-07 08:00:00</th>\n",
       "      <td>27.283333</td>\n",
       "    </tr>\n",
       "    <tr>\n",
       "      <th>2023-07-07 09:00:00</th>\n",
       "      <td>28.233333</td>\n",
       "    </tr>\n",
       "    <tr>\n",
       "      <th>2023-07-07 10:00:00</th>\n",
       "      <td>29.000000</td>\n",
       "    </tr>\n",
       "    <tr>\n",
       "      <th>2023-07-07 11:00:00</th>\n",
       "      <td>29.533333</td>\n",
       "    </tr>\n",
       "    <tr>\n",
       "      <th>2023-07-07 12:00:00</th>\n",
       "      <td>29.900000</td>\n",
       "    </tr>\n",
       "    <tr>\n",
       "      <th>2023-07-07 13:00:00</th>\n",
       "      <td>27.166667</td>\n",
       "    </tr>\n",
       "    <tr>\n",
       "      <th>2023-07-07 14:00:00</th>\n",
       "      <td>27.833333</td>\n",
       "    </tr>\n",
       "    <tr>\n",
       "      <th>2023-07-07 15:00:00</th>\n",
       "      <td>28.533333</td>\n",
       "    </tr>\n",
       "    <tr>\n",
       "      <th>2023-07-07 16:00:00</th>\n",
       "      <td>32.600000</td>\n",
       "    </tr>\n",
       "    <tr>\n",
       "      <th>2023-07-07 17:00:00</th>\n",
       "      <td>32.533333</td>\n",
       "    </tr>\n",
       "    <tr>\n",
       "      <th>2023-07-07 18:00:00</th>\n",
       "      <td>31.866667</td>\n",
       "    </tr>\n",
       "    <tr>\n",
       "      <th>2023-07-07 19:00:00</th>\n",
       "      <td>30.500000</td>\n",
       "    </tr>\n",
       "    <tr>\n",
       "      <th>2023-07-07 20:00:00</th>\n",
       "      <td>29.700000</td>\n",
       "    </tr>\n",
       "    <tr>\n",
       "      <th>2023-07-07 21:00:00</th>\n",
       "      <td>29.013333</td>\n",
       "    </tr>\n",
       "    <tr>\n",
       "      <th>2023-07-07 22:00:00</th>\n",
       "      <td>27.646667</td>\n",
       "    </tr>\n",
       "    <tr>\n",
       "      <th>2023-07-07 23:00:00</th>\n",
       "      <td>NaN</td>\n",
       "    </tr>\n",
       "  </tbody>\n",
       "</table>\n",
       "</div>"
      ],
      "text/plain": [
       "                          temp\n",
       "2023-07-07 00:00:00        NaN\n",
       "2023-07-07 01:00:00  24.533333\n",
       "2023-07-07 02:00:00  24.633333\n",
       "2023-07-07 03:00:00  25.033333\n",
       "2023-07-07 04:00:00  25.266667\n",
       "2023-07-07 05:00:00  25.600000\n",
       "2023-07-07 06:00:00  25.983333\n",
       "2023-07-07 07:00:00  26.550000\n",
       "2023-07-07 08:00:00  27.283333\n",
       "2023-07-07 09:00:00  28.233333\n",
       "2023-07-07 10:00:00  29.000000\n",
       "2023-07-07 11:00:00  29.533333\n",
       "2023-07-07 12:00:00  29.900000\n",
       "2023-07-07 13:00:00  27.166667\n",
       "2023-07-07 14:00:00  27.833333\n",
       "2023-07-07 15:00:00  28.533333\n",
       "2023-07-07 16:00:00  32.600000\n",
       "2023-07-07 17:00:00  32.533333\n",
       "2023-07-07 18:00:00  31.866667\n",
       "2023-07-07 19:00:00  30.500000\n",
       "2023-07-07 20:00:00  29.700000\n",
       "2023-07-07 21:00:00  29.013333\n",
       "2023-07-07 22:00:00  27.646667\n",
       "2023-07-07 23:00:00        NaN"
      ]
     },
     "execution_count": 35,
     "metadata": {},
     "output_type": "execute_result"
    }
   ],
   "source": [
    "temp.rolling(window=3,center=True).mean()"
   ]
  },
  {
   "cell_type": "code",
   "execution_count": 38,
   "id": "6e76953c",
   "metadata": {},
   "outputs": [
    {
     "data": {
      "text/plain": [
       "<Axes: title={'center': 'hourly_temp'}>"
      ]
     },
     "execution_count": 38,
     "metadata": {},
     "output_type": "execute_result"
    },
    {
     "data": {
      "image/png": "[encoded data removed]",
      "text/plain": [
       "<Figure size 640x480 with 1 Axes>"
      ]
     },
     "metadata": {},
     "output_type": "display_data"
    }
   ],
   "source": [
    "temp.plot(kind='line',title='hourly_temp',style='.-',color='r',mfc='y',ms=8)"
   ]
  },
  {
   "cell_type": "code",
   "execution_count": 68,
   "id": "1008766b",
   "metadata": {},
   "outputs": [],
   "source": [
    "import numpy as np"
   ]
  },
  {
   "cell_type": "code",
   "execution_count": 73,
   "id": "8811cc42",
   "metadata": {},
   "outputs": [],
   "source": [
    "df=pd.DataFrame(np.random.randint(1,100,size=(50,2)),columns=['Score','Age'])"
   ]
  },
  {
   "cell_type": "code",
   "execution_count": 74,
   "id": "3f307d2f",
   "metadata": {},
   "outputs": [
    {
     "data": {
      "text/html": [
       "<div>\n",
       "<style scoped>\n",
       "    .dataframe tbody tr th:only-of-type {\n",
       "        vertical-align: middle;\n",
       "    }\n",
       "\n",
       "    .dataframe tbody tr th {\n",
       "        vertical-align: top;\n",
       "    }\n",
       "\n",
       "    .dataframe thead th {\n",
       "        text-align: right;\n",
       "    }\n",
       "</style>\n",
       "<table border=\"1\" class=\"dataframe\">\n",
       "  <thead>\n",
       "    <tr style=\"text-align: right;\">\n",
       "      <th></th>\n",
       "      <th>Score</th>\n",
       "      <th>Age</th>\n",
       "    </tr>\n",
       "  </thead>\n",
       "  <tbody>\n",
       "    <tr>\n",
       "      <th>0</th>\n",
       "      <td>62</td>\n",
       "      <td>95</td>\n",
       "    </tr>\n",
       "    <tr>\n",
       "      <th>1</th>\n",
       "      <td>46</td>\n",
       "      <td>36</td>\n",
       "    </tr>\n",
       "    <tr>\n",
       "      <th>2</th>\n",
       "      <td>80</td>\n",
       "      <td>67</td>\n",
       "    </tr>\n",
       "    <tr>\n",
       "      <th>3</th>\n",
       "      <td>35</td>\n",
       "      <td>97</td>\n",
       "    </tr>\n",
       "    <tr>\n",
       "      <th>4</th>\n",
       "      <td>59</td>\n",
       "      <td>16</td>\n",
       "    </tr>\n",
       "  </tbody>\n",
       "</table>\n",
       "</div>"
      ],
      "text/plain": [
       "   Score  Age\n",
       "0     62   95\n",
       "1     46   36\n",
       "2     80   67\n",
       "3     35   97\n",
       "4     59   16"
      ]
     },
     "execution_count": 74,
     "metadata": {},
     "output_type": "execute_result"
    }
   ],
   "source": [
    "df.head()"
   ]
  },
  {
   "cell_type": "code",
   "execution_count": 77,
   "id": "d7af3018",
   "metadata": {},
   "outputs": [
    {
     "data": {
      "text/plain": [
       "<Axes: ylabel='Frequency'>"
      ]
     },
     "execution_count": 77,
     "metadata": {},
     "output_type": "execute_result"
    },
    {
     "data": {
      "image/png": "[encoded data removed]",
      "text/plain": [
       "<Figure size 640x480 with 1 Axes>"
      ]
     },
     "metadata": {},
     "output_type": "display_data"
    }
   ],
   "source": [
    "df.plot.hist(bins=5,alpha=.5)"
   ]
  }
 ],
 "metadata": {
  "kernelspec": {
   "display_name": "Python 3 (ipykernel)",
   "language": "python",
   "name": "python3"
  },
  "language_info": {
   "codemirror_mode": {
    "name": "ipython",
    "version": 3
   },
   "file_extension": ".py",
   "mimetype": "text/x-python",
   "name": "python",
   "nbconvert_exporter": "python",
   "pygments_lexer": "ipython3",
   "version": "3.10.9"
  }
 },
 "nbformat": 4,
 "nbformat_minor": 5
}
